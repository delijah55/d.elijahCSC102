{
 "cells": [
  {
   "cell_type": "code",
   "execution_count": null,
   "id": "5cb5aef3",
   "metadata": {},
   "outputs": [],
   "source": [
    "class OrangeStore:\n",
    "    def __init__(self, stock_quantity, price_per_orange):\n",
    "        self.stock_quantity = stock_quantity\n",
    "        self.price_per_orange = price_per_orange\n",
    "        \n",
    "    def buy_oranges(self, quantity):\n",
    "        if quantity <= self.stock_quantity:\n",
    "            self.stock_quantity -= quantity\n",
    "            cost = quantity * self.price_per_orange \n",
    "            print(\"Thanks for your purchase\")\n",
    "            print(\"Cost of items: \", cost)\n",
    "                \n",
    "        else:\n",
    "            print(\"Sorry, the requested quantity exceeds the stock quantity\")\n",
    "                \n",
    "\n",
    "store = OrangeStore(50, 0.5)\n",
    "requested_quantity = int(input(\"Enter the number of oranges you want to buy: \"))\n",
    "store.buy_oranges(requested_quantity)"
   ]
  },
  {
   "cell_type": "code",
   "execution_count": null,
   "id": "e7fc1829",
   "metadata": {},
   "outputs": [],
   "source": [
    "import csv\n",
    "class DrinksTable:\n",
    "\n",
    "    def __init__(self, headers):\n",
    "        self.headers = headers\n",
    "        self.rows = []\n",
    "        \n",
    "    def add_rows(self, values):\n",
    "        self.rows.append(values)\n",
    "        \n",
    "    def save_as_csv(self, filename):\n",
    "        with open('drinks.csv', 'W', encoding='UTF8', newline='')as f:\n",
    "        writer = csv.DictWriter(f, fieldnames=fieldnames)\n",
    "        writer.writeheader()\n",
    "        writer.writerows(rows)\n",
    "        \n",
    "        table = Table(['Lager', 'Stout', 'Non-Alcoholic'])\n",
    "        table.add_row(['33 Export', 'Legend', 'Maltina'])\n",
    "        \n",
    "        "
   ]
  },
  {
   "cell_type": "code",
   "execution_count": null,
   "id": "28fa25a7",
   "metadata": {},
   "outputs": [],
   "source": []
  }
 ],
 "metadata": {
  "kernelspec": {
   "display_name": "Python 3 (ipykernel)",
   "language": "python",
   "name": "python3"
  },
  "language_info": {
   "codemirror_mode": {
    "name": "ipython",
    "version": 3
   },
   "file_extension": ".py",
   "mimetype": "text/x-python",
   "name": "python",
   "nbconvert_exporter": "python",
   "pygments_lexer": "ipython3",
   "version": "3.10.9"
  }
 },
 "nbformat": 4,
 "nbformat_minor": 5
}
