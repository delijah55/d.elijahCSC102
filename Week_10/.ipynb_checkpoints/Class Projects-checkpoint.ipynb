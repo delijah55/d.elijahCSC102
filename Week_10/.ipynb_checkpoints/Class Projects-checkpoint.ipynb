{
 "cells": [
  {
   "cell_type": "code",
   "execution_count": null,
   "id": "6462032e",
   "metadata": {},
   "outputs": [],
   "source": [
    "class OrangeStore:\n",
    "    def __init__(self, stock_quantity, price_per_orange):\n",
    "        self.stock_quantity = stock_quantity\n",
    "        self.price_per_orange = price_per_orange\n",
    "        \n",
    "    def buy_oranges(self, quantity):\n",
    "        if quantity <= self.stock_quantity:\n",
    "            self.stock_quantity -= quantity\n",
    "            cost = quantity * self.price_per_orange \n",
    "            print(\"Thanks for your purchase\")\n",
    "            print(\"Cost of items: \", cost)\n",
    "                \n",
    "        else:\n",
    "            print(\"Sorry, the requested quantity exceeds the stock quantity\")\n",
    "                \n",
    "\n",
    "store = OrangeStore(50, 0.5)\n",
    "requested_quantity = int(input(\"Enter the number of oranges you want to buy: \"))\n",
    "store.buy_oranges(requested_quantity)"
   ]
  },
  {
   "cell_type": "code",
   "execution_count": null,
   "id": "3ac7ecc5",
   "metadata": {},
   "outputs": [],
   "source": [
    "import csv\n",
    "\n",
    "class Table:\n",
    "    def __init__(self, headers):\n",
    "        self.headers = headers\n",
    "        self.rows = []\n",
    "    \n",
    "    def add_row(self, values):\n",
    "        self.rows.append(values)\n",
    "\n",
    "    def save_as_csv(self, filename):\n",
    "        with open(filename, 'w', encoding='UTF8', newline='') as f:\n",
    "            writer = csv.writer(f)\n",
    "            writer.writerow(self.headers)\n",
    "            writer.writerows(self.rows)\n",
    "            \n",
    "header = ['Lager', 'Stout', 'Non-Alcoholic']\n",
    "data = [\n",
    "    ['33 Export', 'Legend', 'Maltina'],\n",
    "    ['Desperados',  'Turbo King', 'Amstel Malta'],\n",
    "    ['Goulder',  'Williams', 'Malta Gold'],\n",
    "    ['Heineken',  '', 'Fayrouz'],\n",
    "    ['Star', '', '']\n",
    "]\n",
    "\n",
    "table = Table(header)\n",
    "for row in data:\n",
    "    table.add_row(row)\n",
    "\n",
    "table.save_as_csv('drinks.csv')"
   ]
  },
  {
   "cell_type": "code",
   "execution_count": null,
   "id": "d535f64a",
   "metadata": {},
   "outputs": [],
   "source": []
  }
 ],
 "metadata": {
  "kernelspec": {
   "display_name": "Python 3 (ipykernel)",
   "language": "python",
   "name": "python3"
  },
  "language_info": {
   "codemirror_mode": {
    "name": "ipython",
    "version": 3
   },
   "file_extension": ".py",
   "mimetype": "text/x-python",
   "name": "python",
   "nbconvert_exporter": "python",
   "pygments_lexer": "ipython3",
   "version": "3.10.9"
  }
 },
 "nbformat": 4,
 "nbformat_minor": 5
}
