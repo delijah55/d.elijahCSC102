{
 "cells": [
  {
   "cell_type": "code",
   "execution_count": 25,
   "id": "7eca3eb0",
   "metadata": {},
   "outputs": [],
   "source": [
    "import pandas as pd\n",
    "\n",
    "def verify_employee(name, department):\n",
    "   \n",
    "   \n",
    "    employee_data = pd.read_csv('jt-ventures.csv')\n",
    "    \n",
    "    \n",
    "    filtered_data = employee_data[(employee_data['Name'] == name) & (employee_data['Department'] == department)]\n",
    "    \n",
    "  \n",
    "    if len(filtered_data) > 0:\n",
    "        \n",
    "        print(f\"Welcome, {name}! You are an employee of JT Ventures in the {department} department.\")\n",
    "        print(\"Here is our company profile:\")\n",
    "        print(filtered_data)\n",
    "    else:\n",
    "        \n",
    "        print(f\"Sorry, we could not find an employee named {name} in the {department} department.\")\n",
    "\n"
   ]
  },
  {
   "cell_type": "code",
   "execution_count": null,
   "id": "bad3de23",
   "metadata": {},
   "outputs": [],
   "source": []
  }
 ],
 "metadata": {
  "kernelspec": {
   "display_name": "Python 3 (ipykernel)",
   "language": "python",
   "name": "python3"
  },
  "language_info": {
   "codemirror_mode": {
    "name": "ipython",
    "version": 3
   },
   "file_extension": ".py",
   "mimetype": "text/x-python",
   "name": "python",
   "nbconvert_exporter": "python",
   "pygments_lexer": "ipython3",
   "version": "3.10.9"
  }
 },
 "nbformat": 4,
 "nbformat_minor": 5
}
