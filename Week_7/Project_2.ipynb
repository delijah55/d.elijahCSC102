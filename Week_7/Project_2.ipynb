{
 "cells": [
  {
   "cell_type": "code",
   "execution_count": 20,
   "id": "b56a33c3",
   "metadata": {},
   "outputs": [],
   "source": [
    "def calculate_delivery_fee(package_weight, delivery_location):\n",
    "    if package_weight >= 10 and delivery_location == 'Ibeju-Lekki':\n",
    "        delivery_fee = 2000\n",
    "    elif package_weight < 10 and delivery_location == 'Ibeju-Lekki':\n",
    "        delivery_fee = 1500\n",
    "    elif package_weight >= 10 and delivery_location == 'Epe':\n",
    "        delivery_fee = 5000\n",
    "    elif package_weight < 10 and delivery_location == 'Epe':\n",
    "        delivery_fee = 4000\n",
    "    else:\n",
    "        raise ValueError('Invalid package weight or delivery location')\n",
    "    \n",
    "    return delivery_fee\n"
   ]
  },
  {
   "cell_type": "code",
   "execution_count": null,
   "id": "75f091f3",
   "metadata": {},
   "outputs": [],
   "source": []
  }
 ],
 "metadata": {
  "kernelspec": {
   "display_name": "Python 3 (ipykernel)",
   "language": "python",
   "name": "python3"
  },
  "language_info": {
   "codemirror_mode": {
    "name": "ipython",
    "version": 3
   },
   "file_extension": ".py",
   "mimetype": "text/x-python",
   "name": "python",
   "nbconvert_exporter": "python",
   "pygments_lexer": "ipython3",
   "version": "3.10.9"
  }
 },
 "nbformat": 4,
 "nbformat_minor": 5
}
