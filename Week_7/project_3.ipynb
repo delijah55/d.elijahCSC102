{
 "cells": [
  {
   "cell_type": "code",
   "execution_count": 1,
   "id": "7f24620a",
   "metadata": {},
   "outputs": [],
   "source": [
    "import csv\n",
    "\n",
    "def admission(jamb_score, key_subject_credits, interview_passed, department):\n",
    "    admitted = False\n",
    "    if department == 'Computer Science':\n",
    "        if jamb_score >= 230 and key_subject_credits >= 5 and interview_passed:\n",
    "            admitted = True\n",
    "    elif department == 'Mass Communication':\n",
    "        if jamb_score >= 220 and key_subject_credits >= 5 and interview_passed:\n",
    "            admitted = True\n",
    "\n",
    "    with open('admitted.csv' if admitted else 'not-admitted.csv', mode='a') as file:\n",
    "        writer = csv.writer(file)\n",
    "        writer.writerow([jamb_score, key_subject_credits, interview_passed, department])\n",
    "\n",
    "    return 'Admitted' if admitted else 'Not Admitted'\n"
   ]
  },
  {
   "cell_type": "code",
   "execution_count": null,
   "id": "d0a9e402",
   "metadata": {},
   "outputs": [],
   "source": []
  }
 ],
 "metadata": {
  "kernelspec": {
   "display_name": "Python 3 (ipykernel)",
   "language": "python",
   "name": "python3"
  },
  "language_info": {
   "codemirror_mode": {
    "name": "ipython",
    "version": 3
   },
   "file_extension": ".py",
   "mimetype": "text/x-python",
   "name": "python",
   "nbconvert_exporter": "python",
   "pygments_lexer": "ipython3",
   "version": "3.10.9"
  }
 },
 "nbformat": 4,
 "nbformat_minor": 5
}
