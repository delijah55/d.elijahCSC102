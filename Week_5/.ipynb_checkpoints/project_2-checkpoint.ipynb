{
 "cells": [
  {
   "cell_type": "code",
   "execution_count": 5,
   "id": "61e9a022",
   "metadata": {},
   "outputs": [
    {
     "name": "stdout",
     "output_type": "stream",
     "text": [
      "Enter your age: 35\n",
      "Enter your years of experience: 25\n",
      "Your annual tax revenue is: 1500000\n"
     ]
    }
   ],
   "source": [
    "age = int(input(\"Enter your age: \"))\n",
    "years_of_experience = int(input(\"Enter your years of experience: \"))\n",
    "\n",
    "if years_of_experience > 25 and age >= 55:\n",
    "    ATR = 5600000\n",
    "elif years_of_experience > 20 and age >= 45:\n",
    "    ATR = 4480000\n",
    "elif years_of_experience > 10 and age >= 35:\n",
    "    ATR = 1500000\n",
    "else:\n",
    "    ATR = 550000\n",
    "\n",
    "print(f\"Your annual tax revenue is: {ATR}\")\n",
    "\n",
    "\n"
   ]
  },
  {
   "cell_type": "code",
   "execution_count": null,
   "id": "ef793eb2",
   "metadata": {},
   "outputs": [],
   "source": []
  }
 ],
 "metadata": {
  "kernelspec": {
   "display_name": "Python 3 (ipykernel)",
   "language": "python",
   "name": "python3"
  },
  "language_info": {
   "codemirror_mode": {
    "name": "ipython",
    "version": 3
   },
   "file_extension": ".py",
   "mimetype": "text/x-python",
   "name": "python",
   "nbconvert_exporter": "python",
   "pygments_lexer": "ipython3",
   "version": "3.10.9"
  }
 },
 "nbformat": 4,
 "nbformat_minor": 5
}
