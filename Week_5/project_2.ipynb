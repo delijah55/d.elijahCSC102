{
 "cells": [
  {
   "cell_type": "code",
   "execution_count": 6,
   "id": "a82e0337",
   "metadata": {},
   "outputs": [
    {
     "name": "stdout",
     "output_type": "stream",
     "text": [
      "5600000\n",
      "1500000\n",
      "550000\n"
     ]
    }
   ],
   "source": [
    "def calculate_tax(years_of_experience, age):\n",
    "    if years_of_experience >= 25 and age >= 55:\n",
    "        return 5600000\n",
    "    elif years_of_experience >= 20 and age >= 45:\n",
    "        return 4480000\n",
    "    elif years_of_experience >= 10 and age >= 35:\n",
    "        return 1500000\n",
    "    else:\n",
    "        return 550000\n",
    "\n",
    "tax_revenue = calculate_tax(27, 58) # staff member with 27 years of experience and age 58\n",
    "print(tax_revenue) # Output: 5600000\n",
    "\n",
    "tax_revenue = calculate_tax(15, 42) # staff member with 15 years of experience and age 42\n",
    "print(tax_revenue) # Output: 1500000\n",
    "\n",
    "tax_revenue = calculate_tax(5, 30) # staff member with 5 years of experience and age 30\n",
    "print(tax_revenue) # Output: 550000\n"
   ]
  },
  {
   "cell_type": "code",
   "execution_count": null,
   "id": "61e9a022",
   "metadata": {},
   "outputs": [],
   "source": []
  }
 ],
 "metadata": {
  "kernelspec": {
   "display_name": "Python 3 (ipykernel)",
   "language": "python",
   "name": "python3"
  },
  "language_info": {
   "codemirror_mode": {
    "name": "ipython",
    "version": 3
   },
   "file_extension": ".py",
   "mimetype": "text/x-python",
   "name": "python",
   "nbconvert_exporter": "python",
   "pygments_lexer": "ipython3",
   "version": "3.10.9"
  }
 },
 "nbformat": 4,
 "nbformat_minor": 5
}
