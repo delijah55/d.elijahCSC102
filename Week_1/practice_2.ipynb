{
 "cells": [
  {
   "cell_type": "code",
   "execution_count": 1,
   "id": "a9867c57",
   "metadata": {},
   "outputs": [
    {
     "name": "stdout",
     "output_type": "stream",
     "text": [
      "Hi my name is Matthew. I am String\n",
      "<class 'str'>\n",
      "Hi my name is Precious. I am also string\n",
      "<class 'str'>\n"
     ]
    }
   ],
   "source": [
    "str1 = \"Hi my name is Matthew. I am String\"\n",
    "str2 = 'Hi my name is Precious. I am also string'\n",
    "\n",
    "print(str1)\n",
    "print(type(str1))\n",
    "\n",
    "print(str2)\n",
    "print(type(str2))"
   ]
  },
  {
   "cell_type": "code",
   "execution_count": null,
   "id": "dca001fc",
   "metadata": {},
   "outputs": [],
   "source": []
  }
 ],
 "metadata": {
  "kernelspec": {
   "display_name": "Python 3 (ipykernel)",
   "language": "python",
   "name": "python3"
  },
  "language_info": {
   "codemirror_mode": {
    "name": "ipython",
    "version": 3
   },
   "file_extension": ".py",
   "mimetype": "text/x-python",
   "name": "python",
   "nbconvert_exporter": "python",
   "pygments_lexer": "ipython3",
   "version": "3.10.9"
  }
 },
 "nbformat": 4,
 "nbformat_minor": 5
}
