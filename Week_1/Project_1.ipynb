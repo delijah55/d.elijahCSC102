{
 "cells": [
  {
   "cell_type": "code",
   "execution_count": 1,
   "id": "8517b484",
   "metadata": {},
   "outputs": [
    {
     "name": "stdout",
     "output_type": "stream",
     "text": [
      "Enter the principal amount: 23\n",
      "Enter the rate of interest: 15\n",
      "Enter the time duration (in years): 4\n",
      "Simple interest =  13.8\n"
     ]
    }
   ],
   "source": [
    "principal_amount = float(input(\"Enter the principal amount: \"))\n",
    "rate_of_interest = float(input(\"Enter the rate of interest: \"))\n",
    "time_duration = float(input(\"Enter the time duration (in years): \"))\n",
    "\n",
    "simple_interest = (principal_amount * rate_of_interest * time_duration) / 100\n",
    "\n",
    "print(\"Simple interest = \", simple_interest)\n"
   ]
  },
  {
   "cell_type": "code",
   "execution_count": 2,
   "id": "b52e65aa",
   "metadata": {
    "scrolled": true
   },
   "outputs": [
    {
     "name": "stdout",
     "output_type": "stream",
     "text": [
      "Enter the principal amount: 23\n",
      "Enter the rate of interest: 15\n",
      "Enter the time duration (in years): 4\n",
      "Enter the number of times interest is compounded per year: 5\n",
      "Future value =  25288767438848.0\n"
     ]
    }
   ],
   "source": [
    "principal_amount = float(input(\"Enter the principal amount: \"))\n",
    "rate_of_interest = float(input(\"Enter the rate of interest: \"))\n",
    "time_duration = float(input(\"Enter the time duration (in years): \"))\n",
    "compounding_periods = int(input(\"Enter the number of times interest is compounded per year: \"))\n",
    "\n",
    "interest_rate_per_period = rate_of_interest / compounding_periods\n",
    "\n",
    "total_periods = compounding_periods * time_duration\n",
    "\n",
    "future_value = principal_amount * (1 + interest_rate_per_period)**total_periods\n",
    "\n",
    "print(\"Future value = \", future_value)"
   ]
  },
  {
   "cell_type": "code",
   "execution_count": 3,
   "id": "b6473457",
   "metadata": {},
   "outputs": [
    {
     "name": "stdout",
     "output_type": "stream",
     "text": [
      "Enter the periodic payment: 25000\n",
      "Enter the rate of interest: 15\n",
      "Enter the time duration (in years): 4\n",
      "Enter the number of times interest is compounded per year: 2\n",
      "Future value =  3333.3332110049205\n"
     ]
    }
   ],
   "source": [
    "periodic_payment = float(input(\"Enter the periodic payment: \"))\n",
    "rate_of_interest = float(input(\"Enter the rate of interest: \"))\n",
    "time_duration = float(input(\"Enter the time duration (in years): \"))\n",
    "compounding_periods = int(input(\"Enter the number of times interest is compounded per year: \"))\n",
    "\n",
    "interest_rate_per_period = rate_of_interest / compounding_periods\n",
    "\n",
    "future_value = periodic_payment * (((1 + interest_rate_per_period)**(compounding_periods * time_duration) - 1) / (interest_rate_per_period * (1 + interest_rate_per_period)**(compounding_periods * time_duration)))\n",
    "\n",
    "\n",
    "print(\"Future value = \", future_value)\n"
   ]
  }
 ],
 "metadata": {
  "kernelspec": {
   "display_name": "Python 3 (ipykernel)",
   "language": "python",
   "name": "python3"
  },
  "language_info": {
   "codemirror_mode": {
    "name": "ipython",
    "version": 3
   },
   "file_extension": ".py",
   "mimetype": "text/x-python",
   "name": "python",
   "nbconvert_exporter": "python",
   "pygments_lexer": "ipython3",
   "version": "3.10.9"
  }
 },
 "nbformat": 4,
 "nbformat_minor": 5
}
