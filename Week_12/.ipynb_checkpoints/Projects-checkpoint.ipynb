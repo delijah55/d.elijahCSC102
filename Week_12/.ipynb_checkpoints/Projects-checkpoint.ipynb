{
 "cells": [
  {
   "cell_type": "code",
   "execution_count": 1,
   "id": "6472ac37",
   "metadata": {},
   "outputs": [
    {
     "name": "stdout",
     "output_type": "stream",
     "text": [
      "Enter the name of the club you support: Madiba FC\n",
      "Welcome to the Madiba FC Fan Page\n"
     ]
    }
   ],
   "source": [
    "from abc import ABC, abstractmethod\n",
    "\n",
    "class coup_de_escriva(ABC):\n",
    "    @abstractmethod\n",
    "    def Fan_Page(self):\n",
    "        pass\n",
    "\n",
    "class FC_Cirok(coup_de_escriva):\n",
    "    def Fan_Page(self):\n",
    "        print(\"Welcome to the FC Cirok Fan Page\")\n",
    "\n",
    "class Madiba_FC(coup_de_escriva):\n",
    "    def Fan_Page(self):\n",
    "        print(\"Welcome to the Madiba FC Fan Page\")\n",
    "\n",
    "class Blue_Jay_FC(coup_de_escriva):\n",
    "    def Fan_Page(self):\n",
    "        print(\"Welcome to the Blue Jay FC Fan Page\")\n",
    "\n",
    "class TSG_Walker(coup_de_escriva):\n",
    "    def Fan_Page(self):\n",
    "        print(\"Welcome to the TSG Walker Fan Page\")\n",
    "\n",
    "\n",
    "club_name = input(\"Enter the name of the club you support: \")\n",
    "\n",
    "\n",
    "if club_name == \"FC Cirok\":\n",
    "    club = FC_Cirok()\n",
    "    club.Fan_Page()\n",
    "elif club_name == \"Madiba FC\":\n",
    "    club = Madiba_FC()\n",
    "    club.Fan_Page()\n",
    "elif club_name == \"Blue Jay FC\":\n",
    "    club = Blue_Jay_FC()\n",
    "    club.Fan_Page()\n",
    "elif club_name == \"TSG Walker\":\n",
    "    club = TSG_Walker()\n",
    "    club.Fan_Page()\n",
    "else:\n",
    "    print(\"Invalid club name\")\n"
   ]
  },
  {
   "cell_type": "code",
   "execution_count": 6,
   "id": "b13d3b78",
   "metadata": {},
   "outputs": [
    {
     "name": "stdout",
     "output_type": "stream",
     "text": [
      "Choose Vendor(Cooperative Hostel, Faith Hostel, Student Centre):Student Centre\n",
      "Student Centre Cafeteria Menu:\n",
      "Main Meal | Price(N)\n",
      "Chicken Fried Rice | 800\n",
      "Spaghetti Jollof | 200\n",
      "Pomo Sauce | 200\n",
      "Amala/Ewedu | 100\n",
      "Semo with Eforiro Soup | 100\n"
     ]
    }
   ],
   "source": [
    "from abc import ABC, abstractmethod\n",
    "\n",
    "class External_Vendors(ABC):\n",
    "        @abstractmethod\n",
    "        def menu(self):\n",
    "            pass\n",
    "        \n",
    "class CooperativeCafeteria(External_Vendors):\n",
    "        def menu(self):\n",
    "            print(\"Cooperative Cafeteria Menu:\")\n",
    "            print(\"Main Meal | Price(N)\")\n",
    "            print(\"Jollof Rice and Stew | 200\")\n",
    "            print(\"White Rice and Stew | 200\")\n",
    "            print(\"Fried Rice | 200\")\n",
    "            print(\"Salad | 100\")\n",
    "            print(\"Plantain | 100\")\n",
    "            \n",
    "class FaithHostelCafeteria(External_Vendors):\n",
    "        def menu(self):\n",
    "            print(\"Faith Hostel Cafeteria Menu:\")\n",
    "            print(\"Main Meal | Price(N)\")\n",
    "            print(\"Chicken | 1000\")\n",
    "            print(\"White Rice and Stew | 400\")\n",
    "            print(\"Fried Rice | 400\")\n",
    "            print(\"Jollof Rice | 400\")\n",
    "            print(\"Beans | 200\")\n",
    "            \n",
    "class StudentCentreCafeteria(External_Vendors):\n",
    "        def menu(self):\n",
    "            print(\"Student Centre Cafeteria Menu:\")\n",
    "            print(\"Main Meal | Price(N)\")\n",
    "            print(\"Chicken Fried Rice | 800\")\n",
    "            print(\"Spaghetti Jollof | 200\")\n",
    "            print(\"Pomo Sauce | 200\")\n",
    "            print(\"Amala/Ewedu | 100\")\n",
    "            print(\"Semo with Eforiro Soup | 100\")\n",
    "            \n",
    "            \n",
    "Vendor = input(\"Choose Vendor(Cooperative Hostel, Faith Hostel, Student Centre):\")\n",
    "    \n",
    "if Vendor.lower() == \"cooperative hostel\":\n",
    "        cafeteria = CooperativeCafeteria()\n",
    "        \n",
    "elif Vendor.lower() == \"faith hostel\":\n",
    "        cafeteria = FaithHostelCafeteria()\n",
    "    \n",
    "elif Vendor.lower() == \"student centre\":\n",
    "        cafeteria = StudentCentreCafeteria()\n",
    "        \n",
    "else:\n",
    "        print (\"Invalid Vendor.\")\n",
    "        exit()\n",
    "        \n",
    "cafeteria.menu()\n",
    "\n",
    "\n",
    "            \n",
    "            \n",
    "            \n",
    "        \n",
    "            "
   ]
  },
  {
   "cell_type": "code",
   "execution_count": null,
   "id": "48c48780",
   "metadata": {},
   "outputs": [],
   "source": []
  }
 ],
 "metadata": {
  "kernelspec": {
   "display_name": "Python 3 (ipykernel)",
   "language": "python",
   "name": "python3"
  },
  "language_info": {
   "codemirror_mode": {
    "name": "ipython",
    "version": 3
   },
   "file_extension": ".py",
   "mimetype": "text/x-python",
   "name": "python",
   "nbconvert_exporter": "python",
   "pygments_lexer": "ipython3",
   "version": "3.10.9"
  }
 },
 "nbformat": 4,
 "nbformat_minor": 5
}
