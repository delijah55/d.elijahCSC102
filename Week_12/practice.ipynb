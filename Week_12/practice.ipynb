{
 "cells": [
  {
   "cell_type": "code",
   "execution_count": 1,
   "id": "8e54ce98",
   "metadata": {},
   "outputs": [
    {
     "name": "stdout",
     "output_type": "stream",
     "text": [
      "Volume of a rectangle: 144\n",
      "Volume of a circle: 2089.9840000000004\n",
      "Volume of a square: 125\n",
      "Volume of a triangle: 10.0\n"
     ]
    }
   ],
   "source": [
    "from abc import ABC\n",
    "\n",
    "class geometric(ABC):\n",
    "    \n",
    "    def volume(self):\n",
    "        #abstract method\n",
    "        pass\n",
    "    \n",
    "class Rect(geometric):\n",
    "    length = 4\n",
    "    width = 6\n",
    "    height = 6\n",
    "    \n",
    "    def volume(self):\n",
    "        return self.length * self.width *self.height\n",
    "    \n",
    "class Sphere(geometric):\n",
    "    radius = 8\n",
    "    def volume(self):\n",
    "        return 1.3 * 3.14 * self.radius * self.radius *self.radius\n",
    "    \n",
    "class Cube(geometric):\n",
    "    Edge = 5\n",
    "    def volume(self):\n",
    "        return self.Edge * self.Edge *self.Edge\n",
    "    \n",
    "class Triangle_3D:\n",
    "    length = 5\n",
    "    width = 4\n",
    "    def volume(self):\n",
    "        return 0.5 * self.length * self.width\n",
    "    \n",
    "rr = Rect()\n",
    "ss = Sphere()\n",
    "cc = Cube()\n",
    "tt = Triangle_3D()\n",
    "print(\"Volume of a rectangle:\", rr.volume())\n",
    "print(\"Volume of a circle:\", ss.volume())\n",
    "print(\"Volume of a square:\", cc.volume())\n",
    "print(\"Volume of a triangle:\", tt.volume())"
   ]
  },
  {
   "cell_type": "code",
   "execution_count": 2,
   "id": "0ef678aa",
   "metadata": {},
   "outputs": [
    {
     "name": "stdout",
     "output_type": "stream",
     "text": [
      "paycheque of:  6500\n",
      "Purchase of the product:  6500\n",
      "True\n",
      "pay through card of:  2600\n",
      "Purchase of the product:  2600\n",
      "True\n"
     ]
    }
   ],
   "source": [
    "from abc import ABC, abstractmethod\n",
    "\n",
    "class Bill(ABC):\n",
    "    def final_bill(self, pay):\n",
    "        print('Purchase of the product: ', pay)\n",
    "        \n",
    "    @abstractmethod\n",
    "    def Invoice(self, pay):\n",
    "        pass\n",
    "    \n",
    "class Paycheck(Bill):\n",
    "    def Invoice(self, pay):\n",
    "        print('paycheque of: ', pay)\n",
    "        \n",
    "class CardPayment(Bill):\n",
    "    def Invoice(self, pay):\n",
    "        print('pay through card of: ', pay)\n",
    "        \n",
    "aa = Paycheck()\n",
    "aa.Invoice(6500)\n",
    "aa.final_bill(6500)\n",
    "print(isinstance(aa,Paycheck))\n",
    "\n",
    "aa = CardPayment()\n",
    "aa.Invoice(2600)\n",
    "aa.final_bill(2600)\n",
    "print(isinstance(aa,CardPayment))"
   ]
  },
  {
   "cell_type": "code",
   "execution_count": 3,
   "id": "8cb5ef09",
   "metadata": {},
   "outputs": [
    {
     "name": "stdout",
     "output_type": "stream",
     "text": [
      "What animal species are you?: Human\n",
      "You are a Human. You can walk and run\n"
     ]
    }
   ],
   "source": [
    "from abc import ABC, abstractmethod\n",
    "\n",
    "class Animal(ABC):\n",
    "    @abstractmethod\n",
    "    def move(self):\n",
    "        pass\n",
    "\n",
    "class Human(Animal):\n",
    "    def move(self):\n",
    "        print(\"You are a Human. You can walk and run\")\n",
    "\n",
    "class Snake(Animal):\n",
    "    def move(self):\n",
    "        print(\"You are a Snake. You can crawl\")\n",
    "\n",
    "class Dog(Animal):\n",
    "    def move(self):\n",
    "        print(\"You are a Dog. You can bark\")\n",
    "\n",
    "class Lion(Animal):\n",
    "    def move(self):\n",
    "        print(\"You are a Lion. You can roar\")\n",
    "\n",
    "# Object Instantiation\n",
    "animal = input(\"What animal species are you?: \")\n",
    "\n",
    "if animal == \"Human\":\n",
    "    H = Human()\n",
    "    H.move()\n",
    "elif animal == \"Snake\":\n",
    "    s = Snake()\n",
    "    s.move()\n",
    "elif animal == \"Dog\":\n",
    "    d = Dog()\n",
    "    d.move()\n",
    "elif animal == \"Lion\":\n",
    "    l = Lion()\n",
    "    l.move()\n",
    "else:\n",
    "    print(\"Invalid animal species\")\n"
   ]
  },
  {
   "cell_type": "code",
   "execution_count": 7,
   "id": "86acb463",
   "metadata": {},
   "outputs": [
    {
     "name": "stdout",
     "output_type": "stream",
     "text": [
      "Abstract Base Class\n",
      "subclass\n"
     ]
    }
   ],
   "source": [
    "from abc import ABC, abstractmethod\n",
    "\n",
    "class R(ABC):\n",
    "    \n",
    "    def rk(self):\n",
    "        print(\"Abstract Base Class\")\n",
    "\n",
    "class K(R):\n",
    "    def rk(self):\n",
    "        super().rk()\n",
    "        print(\"subclass\")\n",
    "\n",
    "\n",
    "r = K()\n",
    "r.rk()"
   ]
  },
  {
   "cell_type": "code",
   "execution_count": 14,
   "id": "548cfc0d",
   "metadata": {},
   "outputs": [
    {
     "name": "stdout",
     "output_type": "stream",
     "text": [
      "Total Naira Value here: 5000\n",
      "Total Naira Value here: 2000\n"
     ]
    }
   ],
   "source": [
    "from abc import ABC, abstractmethod\n",
    "\n",
    "class Bank(ABC):\n",
    "    def branch(self, Naira):\n",
    "        print(\"Fees submitted:\", Naira)\n",
    "   \n",
    "    @abstractmethod\n",
    "    def Bank(self, Naira):\n",
    "        pass\n",
    "        \n",
    "class private(Bank):\n",
    "    def Bank(self, Naira):\n",
    "        print(\"Total Naira Value here:\", Naira)\n",
    "        \n",
    "class public(Bank):\n",
    "    def Bank(self, Naira):\n",
    "        print(\"Total Naira Value here:\", Naira)\n",
    "\n",
    "private_obj = private()\n",
    "private_obj.Bank(5000)\n",
    "\n",
    "public_obj = public()\n",
    "public_obj.Bank(2000)\n",
    "\n"
   ]
  },
  {
   "cell_type": "code",
   "execution_count": null,
   "id": "21e9f970",
   "metadata": {},
   "outputs": [],
   "source": []
  }
 ],
 "metadata": {
  "kernelspec": {
   "display_name": "Python 3 (ipykernel)",
   "language": "python",
   "name": "python3"
  },
  "language_info": {
   "codemirror_mode": {
    "name": "ipython",
    "version": 3
   },
   "file_extension": ".py",
   "mimetype": "text/x-python",
   "name": "python",
   "nbconvert_exporter": "python",
   "pygments_lexer": "ipython3",
   "version": "3.10.9"
  }
 },
 "nbformat": 4,
 "nbformat_minor": 5
}
