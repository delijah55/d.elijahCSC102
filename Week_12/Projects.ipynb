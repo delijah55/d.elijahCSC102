{
 "cells": [
  {
   "cell_type": "code",
   "execution_count": null,
   "id": "787b72af",
   "metadata": {},
   "outputs": [],
   "source": [
    "from abc import ABC, abstractmethod\n",
    "\n",
    "class coup_de_ecriva(ABC):\n",
    "    @abstractmethod\n",
    "    def Fan_Page(self):\n",
    "        pass\n",
    "\n",
    "class FC_Cirok(coup_de_ecriva):\n",
    "    def Fan_Page(self):\n",
    "        print(\"Welcome to FC Cirok Fan Page\")\n",
    "\n",
    "class Madiba_FC(coup_de_ecriva):\n",
    "    def Fan_Page(self):\n",
    "        print(\"Welcome to Madiba FC Fan Page\")\n",
    "\n",
    "class Blue_Jay_FC(coup_de_ecriva):\n",
    "    def Fan_Page(self):\n",
    "        print(\"Welcome to Blue Jay FC Fan Page\")\n",
    "\n",
    "class TSG_Walker(coup_de_ecriva):\n",
    "    def Fan_Page(self):\n",
    "        print(\"Welcome to TSG Walker Fan Page\")\n",
    "\n",
    "\n",
    "club_name = input(\"Enter the name of the club you support: \")\n",
    "\n",
    "\n",
    "if club_name == \"FC Cirok\":\n",
    "    club = FC_Cirok()\n",
    "    club.Fan_Page()\n",
    "elif club_name == \"Madiba FC\":\n",
    "    club = Madiba_FC()\n",
    "    club.Fan_Page()\n",
    "elif club_name == \"Blue Jay FC\":\n",
    "    club = Blue_Jay_FC()\n",
    "    club.Fan_Page()\n",
    "elif club_name == \"TSG Walker\":\n",
    "    club = TSG_Walker()\n",
    "    club.Fan_Page()\n",
    "else:\n",
    "    print(\"Invalid club name\")\n"
   ]
  }
 ],
 "metadata": {
  "kernelspec": {
   "display_name": "Python 3 (ipykernel)",
   "language": "python",
   "name": "python3"
  },
  "language_info": {
   "codemirror_mode": {
    "name": "ipython",
    "version": 3
   },
   "file_extension": ".py",
   "mimetype": "text/x-python",
   "name": "python",
   "nbconvert_exporter": "python",
   "pygments_lexer": "ipython3",
   "version": "3.10.9"
  }
 },
 "nbformat": 4,
 "nbformat_minor": 5
}
