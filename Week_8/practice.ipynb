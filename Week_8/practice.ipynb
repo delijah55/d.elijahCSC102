{
 "cells": [
  {
   "cell_type": "code",
   "execution_count": 35,
   "id": "846d5efb",
   "metadata": {},
   "outputs": [],
   "source": [
    "class Parrot():\n",
    "    pass"
   ]
  },
  {
   "cell_type": "code",
   "execution_count": 36,
   "id": "5392b8ce",
   "metadata": {},
   "outputs": [],
   "source": [
    "obj = Parrot() "
   ]
  },
  {
   "cell_type": "code",
   "execution_count": 17,
   "id": "7b5b711a",
   "metadata": {
    "scrolled": true
   },
   "outputs": [
    {
     "name": "stdout",
     "output_type": "stream",
     "text": [
      "mammal\n",
      "I'm a mammal\n",
      "I'm a dog\n"
     ]
    }
   ],
   "source": [
    "class Dog():\n",
    "\n",
    "    attr1 = \"mammal\"\n",
    "    attr2 = \"dog\"\n",
    "\n",
    "  \n",
    "    def fun(self):\n",
    "        print(\"I'm a\", self.attr1)\n",
    "        print(\"I'm a\", self.attr2)\n",
    "\n",
    "\n",
    "Rodger = Dog()\n",
    "\n",
    "\n",
    "print(Rodger.attr1)\n",
    "Rodger.fun()"
   ]
  },
  {
   "cell_type": "code",
   "execution_count": 34,
   "id": "3d243a81",
   "metadata": {
    "scrolled": false
   },
   "outputs": [
    {
     "name": "stdout",
     "output_type": "stream",
     "text": [
      "Address of self =  2228412447184\n",
      "Address of class object =  2228412447184\n"
     ]
    }
   ],
   "source": [
    "class check_:\n",
    "    def __init__(self):\n",
    "        print(\"Address of self = \",id(self))\n",
    "\n",
    "obj = check_()\n",
    "print(\"Address of class object = \",id(obj))\n"
   ]
  },
  {
   "cell_type": "code",
   "execution_count": 27,
   "id": "1dcca6bf",
   "metadata": {},
   "outputs": [
    {
     "name": "stdout",
     "output_type": "stream",
     "text": [
      "Model is Toyota Corolla\n",
      "color is blue\n",
      "Model is Kia Cerato\n",
      "color is green\n"
     ]
    }
   ],
   "source": [
    "class car():\n",
    "\n",
    "    \n",
    "    def __init__(self, model, color):\n",
    "        self.model = model\n",
    "        self.color = color\n",
    "\n",
    "    def show(self):\n",
    "        print(\"Model is\", self.model )\n",
    "        print(\"color is\", self.color )\n",
    "\n",
    "\n",
    "toyota = car(\"Toyota Corolla\", \"blue\")\n",
    "kia = car(\"Kia Cerato\", \"green\")\n",
    "\n",
    "toyota.show() \n",
    "kia.show() "
   ]
  },
  {
   "cell_type": "code",
   "execution_count": 29,
   "id": "67a994d6",
   "metadata": {},
   "outputs": [
    {
     "name": "stdout",
     "output_type": "stream",
     "text": [
      "This is Constructor\n",
      "Worked fine\n"
     ]
    }
   ],
   "source": [
    "class check:\n",
    "    def __init__(self):\n",
    "        print(\"This is Constructor\")\n",
    "\n",
    "object = check()\n",
    "print(\"Worked fine\")"
   ]
  },
  {
   "cell_type": "code",
   "execution_count": 38,
   "id": "94adbbd8",
   "metadata": {},
   "outputs": [
    {
     "name": "stdout",
     "output_type": "stream",
     "text": [
      "we have used another parameter name in place of self\n"
     ]
    }
   ],
   "source": [
    "class this_is_class:\n",
    "    def __init__(in_place_of_self):\n",
    "        print(\"we have used another \"\n",
    "              \"parameter name in place of self\")\n",
    "\n",
    "object = this_is_class()\n"
   ]
  },
  {
   "cell_type": "code",
   "execution_count": 41,
   "id": "72daf68f",
   "metadata": {},
   "outputs": [
    {
     "name": "stdout",
     "output_type": "stream",
     "text": [
      "Hello, my name is Hans Madugu\n"
     ]
    }
   ],
   "source": [
    "class Person:\n",
    "   \n",
    "    def __init__(self, name):\n",
    "        self.name = name\n",
    "\n",
    "    \n",
    "    def say_hi(self):\n",
    "        print('Hello, my name is', self.name)\n",
    "\n",
    "p = Person('Hans Madugu')\n",
    "p.say_hi()\n"
   ]
  },
  {
   "cell_type": "code",
   "execution_count": 45,
   "id": "2358303a",
   "metadata": {},
   "outputs": [
    {
     "name": "stdout",
     "output_type": "stream",
     "text": [
      "Hello, my name is Enobasi\n",
      "Hello, my name is Leela\n",
      "Hello, my name is Divine\n"
     ]
    }
   ],
   "source": [
    "class Person:\n",
    "\n",
    "   \n",
    "    def __init__(self, name):\n",
    "        self.name = name\n",
    "\n",
    "    \n",
    "    def say_hi(self):\n",
    "        print('Hello, my name is', self.name)\n",
    "\n",
    "\n",
    "\n",
    "p1 = Person('Enobasi')\n",
    "p2 = Person('Leela')\n",
    "p3 = Person('Divine')\n",
    "\n",
    "p1.say_hi()\n",
    "p2.say_hi()\n",
    "p3.say_hi()\n"
   ]
  },
  {
   "cell_type": "code",
   "execution_count": 48,
   "id": "8bff2e0e",
   "metadata": {},
   "outputs": [
    {
     "name": "stdout",
     "output_type": "stream",
     "text": [
      "CSC 102 - Introduction to Problem Solving\n"
     ]
    }
   ],
   "source": [
    "class Program:\n",
    "\n",
    "    def __init__(self):\n",
    "        self.course = \"CSC 102 - Introduction to Problem Solving\"\n",
    "\n",
    "    \n",
    "    def print_Course(self):\n",
    "        print(self.course)\n",
    "\n",
    "\n",
    "\n",
    "obj = Program()\n",
    "\n",
    "\n",
    "obj.print_Course()\n",
    "\n"
   ]
  },
  {
   "cell_type": "code",
   "execution_count": 53,
   "id": "50594f58",
   "metadata": {},
   "outputs": [
    {
     "name": "stdout",
     "output_type": "stream",
     "text": [
      "Enter first number: 1\n",
      "Enter second number: 3\n",
      "First number = 1\n",
      "Second number = 3\n",
      "Addition of two numbers = 4\n"
     ]
    }
   ],
   "source": [
    "class Addition:\n",
    "    first = 0\n",
    "    second = 0\n",
    "    answer = 0\n",
    "\n",
    "    def __init__(self, f, s):\n",
    "        self.first = f\n",
    "        self.second = s\n",
    "\n",
    "    def display(self):\n",
    "        print(\"First number = \" + str(self.first))\n",
    "        print(\"Second number = \" + str(self.second))\n",
    "        print(\"Addition of two numbers = \" + str(self.answer))\n",
    "\n",
    "    def calculate(self):\n",
    "        self.answer = self.first + self.second\n",
    "\n",
    "\n",
    "num1 = int(input(\"Enter first number: \"))\n",
    "num2 = int(input(\"Enter second number: \"))\n",
    "obj = Addition(num1, num2)\n",
    "\n",
    "obj.calculate()\n",
    "\n",
    "obj.display()\n",
    "\n"
   ]
  },
  {
   "cell_type": "code",
   "execution_count": 57,
   "id": "01b7d997",
   "metadata": {},
   "outputs": [
    {
     "name": "stdout",
     "output_type": "stream",
     "text": [
      "Oscar is a mammal\n",
      "Peaches is also a mammal\n",
      "My name is Oscar\n",
      "My name is Peaches\n"
     ]
    }
   ],
   "source": [
    "class Dog:\n",
    "\n",
    "    \n",
    "    attr1 = \"mammal\"\n",
    "\n",
    "   \n",
    "    def __init__(self, name):\n",
    "        self.name = name\n",
    "\n",
    "\n",
    "dog1 = Dog(\"Oscar\")\n",
    "dog2 = Dog(\"Peaches\")\n",
    "\n",
    "\n",
    "print(\"Oscar is a {}\".format(dog1.__class__.attr1))\n",
    "print(\"Peaches is also a {}\".format(dog2.__class__.attr1))\n",
    "\n",
    "\n",
    "print(\"My name is {}\".format(dog1.name))\n",
    "print(\"My name is {}\".format(dog2.name))\n"
   ]
  },
  {
   "cell_type": "code",
   "execution_count": 61,
   "id": "5c81f505",
   "metadata": {},
   "outputs": [
    {
     "name": "stdout",
     "output_type": "stream",
     "text": [
      "Enter the name of the first student: Duke\n",
      "Enter the name of the second student: Manuel\n",
      "My name is Duke\n",
      "I'm studying Computer Science\n",
      "My name is Manuel\n",
      "I'm studying Computer Science\n"
     ]
    }
   ],
   "source": [
    "class SST:\n",
    "\n",
    "    prog = \"Computer Science\"\n",
    "\n",
    "    def __init__(self, name):\n",
    "        self.name = name\n",
    "\n",
    "    def speak(self):\n",
    "        print(\"My name is {}\".format(self.name))\n",
    "        print(\"I'm studying {}\".format(self.__class__.prog))\n",
    "\n",
    "\n",
    "stud1 = SST(input(\"Enter the name of the first student: \"))\n",
    "stud2 = SST(input(\"Enter the name of the second student: \"))\n",
    "\n",
    "stud1.speak()\n",
    "stud2.speak()\n"
   ]
  },
  {
   "cell_type": "code",
   "execution_count": 65,
   "id": "7f399d47",
   "metadata": {},
   "outputs": [
    {
     "name": "stdout",
     "output_type": "stream",
     "text": [
      "Rodger details:\n",
      "Rodger is a dog\n",
      "Breed:  Pug\n",
      "Color:  brown\n",
      "\n",
      "Buzo details:\n",
      "Buzo is a dog\n",
      "Breed:  Bulldog\n",
      "Color:  black\n",
      "\n",
      "Accessing class variable using class name\n",
      "dog\n"
     ]
    }
   ],
   "source": [
    "class Dog:\n",
    "\n",
    " \n",
    "    animal = 'dog'\n",
    "\n",
    "   \n",
    "    def __init__(self, breed, color):\n",
    "    \n",
    "        \n",
    "        self.breed = breed\n",
    "        self.color = color\n",
    "    \n",
    "\n",
    "Rodger = Dog(\"Pug\", \"brown\")\n",
    "Buzo = Dog(\"Bulldog\", \"black\")\n",
    "\n",
    "print('Rodger details:')\n",
    "print('Rodger is a', Rodger.animal)\n",
    "print('Breed: ', Rodger.breed)\n",
    "print('Color: ', Rodger.color)\n",
    "\n",
    "print('\\nBuzo details:')\n",
    "print('Buzo is a', Buzo.animal)\n",
    "print('Breed: ', Buzo.breed)\n",
    "print('Color: ', Buzo.color)\n",
    "\n",
    "\n",
    "print(\"\\nAccessing class variable using class name\")\n",
    "print(Dog.animal)"
   ]
  },
  {
   "cell_type": "code",
   "execution_count": 67,
   "id": "ffc22363",
   "metadata": {},
   "outputs": [
    {
     "name": "stdout",
     "output_type": "stream",
     "text": [
      "brown\n"
     ]
    }
   ],
   "source": [
    "class Dog:\n",
    "\n",
    "    animal = 'dog'\n",
    "\n",
    "    def __init__(self, breed):\n",
    "        self.breed = breed\n",
    "\n",
    "    def setColor(self, color):\n",
    "        self.color = color\n",
    "\n",
    "    def getColor(self):\n",
    "        return self.color\n",
    "\n",
    "Rodger = Dog(\"pug\")\n",
    "Rodger.setColor(\"brown\")\n",
    "print(Rodger.getColor())\n"
   ]
  },
  {
   "cell_type": "code",
   "execution_count": null,
   "id": "327ecc7a",
   "metadata": {},
   "outputs": [],
   "source": []
  }
 ],
 "metadata": {
  "kernelspec": {
   "display_name": "Python 3 (ipykernel)",
   "language": "python",
   "name": "python3"
  },
  "language_info": {
   "codemirror_mode": {
    "name": "ipython",
    "version": 3
   },
   "file_extension": ".py",
   "mimetype": "text/x-python",
   "name": "python",
   "nbconvert_exporter": "python",
   "pygments_lexer": "ipython3",
   "version": "3.10.9"
  }
 },
 "nbformat": 4,
 "nbformat_minor": 5
}
