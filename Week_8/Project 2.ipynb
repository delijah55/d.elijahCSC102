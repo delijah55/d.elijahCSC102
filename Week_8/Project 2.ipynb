{
 "cells": [
  {
   "cell_type": "code",
   "execution_count": 3,
   "id": "b0737245",
   "metadata": {},
   "outputs": [
    {
     "name": "stdout",
     "output_type": "stream",
     "text": [
      "Enter your location: Epe\n",
      "Enter package weight in kg: 5\n",
      "The cost of delivering a 5.0kg package to Epe is N4000\n"
     ]
    }
   ],
   "source": [
    "class DeliveryService:\n",
    "    \n",
    "    def __init__(self, weight, location):\n",
    "        self.weight = weight\n",
    "        self.location = location\n",
    "    \n",
    "    def calculate_cost(self):\n",
    "        if self.location == \"PAU\":\n",
    "            if self.weight >= 10:\n",
    "                return 2000\n",
    "            else:\n",
    "                return 1500\n",
    "            \n",
    "        elif self.location == \"Epe\":\n",
    "            if self.weight >= 10:\n",
    "                return 5000\n",
    "            else:\n",
    "                return 4000\n",
    "        else:\n",
    "            return None\n",
    "\n",
    "\n",
    "location = input(\"Enter your location: \")\n",
    "\n",
    "weight = float(input(\"Enter package weight in kg: \"))\n",
    "\n",
    "\n",
    "ds = DeliveryService(weight=weight, location=location)\n",
    "cost = ds.calculate_cost()\n",
    "if cost is None:\n",
    "    print(\"Sorry, we don't deliver to that location.\")\n",
    "else:\n",
    "    print(f\"The cost of delivering a {ds.weight}kg package to {ds.location} is N{cost}\")\n",
    "\n",
    "        \n",
    "        \n"
   ]
  },
  {
   "cell_type": "code",
   "execution_count": null,
   "id": "d5b68e8d",
   "metadata": {},
   "outputs": [],
   "source": []
  }
 ],
 "metadata": {
  "kernelspec": {
   "display_name": "Python 3 (ipykernel)",
   "language": "python",
   "name": "python3"
  },
  "language_info": {
   "codemirror_mode": {
    "name": "ipython",
    "version": 3
   },
   "file_extension": ".py",
   "mimetype": "text/x-python",
   "name": "python",
   "nbconvert_exporter": "python",
   "pygments_lexer": "ipython3",
   "version": "3.10.9"
  }
 },
 "nbformat": 4,
 "nbformat_minor": 5
}
