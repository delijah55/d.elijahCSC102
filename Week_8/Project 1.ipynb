{
 "cells": [
  {
   "cell_type": "code",
   "execution_count": null,
   "id": "63d9bd1b",
   "metadata": {
    "scrolled": true
   },
   "outputs": [],
   "source": [
    "import random\n",
    "\n",
    "class Employee:\n",
    "    def __init__(self, employees):\n",
    "        self.employees = employees\n",
    "        self.attendance = []\n",
    "\n",
    "    def check_employee(self, name):\n",
    "        if name in self.employees:\n",
    "            return True\n",
    "        else:\n",
    "            return False\n",
    "\n",
    "    def take_attendance(self, name):\n",
    "        if self.check_employee(name):\n",
    "            self.attendance.append(name)\n",
    "            print(f\"{name} is present today.\")\n",
    "        else:\n",
    "            self.refuse_access()\n",
    "\n",
    "    def assign_task(self, name):\n",
    "        if self.check_employee(name):\n",
    "            task = random.choice([\"Loading\", \"Transporting\", \"Reviewing Orders\", \"Customer Service\", \"Delivering Items\"])\n",
    "            print(f\"{name}, your task for today is {task}.\")\n",
    "        else:\n",
    "            self.refuse_access()\n",
    "\n",
    "    def refuse_access(self):\n",
    "        print(\"Sorry, you are not authorized to access the system.\")\n",
    "\n",
    "\n",
    "employees = [\"Mary Evans\", \"Eyo Ishan\", \"Durojaiye Dare\", \"Adams Ali\", \"Andrew Ugwu\", \"Stella Mankinde\", \"Jane Akibo\", \"Ago James\", \"Michell Taiwo\", \"Abraham Jones\" , \"Nicole Anide\", \"Kosi Korso\", \"Adele Martins\", \"Emmanuel Ojo\", \"Ajayi Fatima\"]\n",
    "\n",
    "\n",
    "my_employee = Employee(employees)\n",
    "\n",
    "\n",
    "name = input(\"Enter your name: \")\n",
    "\n",
    "\n",
    "while True:\n",
    "    action = input(\"What would you like to do? (a) Take Attendance (b) Assign Task (q) Quit \")\n",
    "    if action == \"a\":\n",
    "        my_employee.take_attendance(name)\n",
    "    elif action == \"b\":\n",
    "        my_employee.assign_task(name)\n",
    "    elif action == \"q\":\n",
    "        print(\"Goodbye!\")\n",
    "        break\n",
    "    else:\n",
    "        print(\"Invalid input. Please try again.\")\n"
   ]
  }
 ],
 "metadata": {
  "kernelspec": {
   "display_name": "Python 3 (ipykernel)",
   "language": "python",
   "name": "python3"
  },
  "language_info": {
   "codemirror_mode": {
    "name": "ipython",
    "version": 3
   },
   "file_extension": ".py",
   "mimetype": "text/x-python",
   "name": "python",
   "nbconvert_exporter": "python",
   "pygments_lexer": "ipython3",
   "version": "3.10.9"
  }
 },
 "nbformat": 4,
 "nbformat_minor": 5
}
