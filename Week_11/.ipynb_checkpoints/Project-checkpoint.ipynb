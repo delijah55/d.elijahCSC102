{
 "cells": [
  {
   "cell_type": "code",
   "execution_count": 5,
   "id": "ba81724e",
   "metadata": {},
   "outputs": [
    {
     "name": "stdout",
     "output_type": "stream",
     "text": [
      "Files have been created and saved.\n"
     ]
    }
   ],
   "source": [
    "import csv\n",
    "\n",
    "class StudentInfo:\n",
    "    def __init__(self, name, age, grade):\n",
    "        self.name = name\n",
    "        self.age = age\n",
    "        self.grade = grade\n",
    "\n",
    "class SIS:\n",
    "    def __init__(self):\n",
    "        self.pirates = []\n",
    "        self.yankees = []\n",
    "        self.bulls = []\n",
    "        \n",
    "    def read_data(self, filename):\n",
    "        with open(filename) as file:\n",
    "            reader = csv.reader(file)\n",
    "            next(reader)\n",
    "            for row in reader:\n",
    "                name = row[1]\n",
    "                age = int(row[2])\n",
    "                grade = row[3]\n",
    "                student = StudentInfo(name, age, grade)\n",
    "                \n",
    "                if 14 < age < 18:\n",
    "                    self.pirates.append(student)\n",
    "                elif 18 < age < 22:\n",
    "                    self.yankees.append(student)\n",
    "                elif age > 22:\n",
    "                    self.bulls.append(student)\n",
    "\n",
    "        self.write_to_file('The_Pirates.csv', self.pirates)\n",
    "        self.write_to_file('The_Yankees.csv', self.yankees)\n",
    "        self.write_to_file('The_Bulls.csv', self.bulls)\n",
    "\n",
    "        print(\"Files have been created and saved.\")\n",
    "\n",
    "    def write_to_file(self, filename, students):\n",
    "        with open(filename, 'w', newline='') as file:\n",
    "            writer = csv.writer(file)\n",
    "            writer.writerow(['Name', 'Age', 'Grade'])  # Write header row\n",
    "\n",
    "            for student in students:\n",
    "                writer.writerow([student.name, student.age, student.grade])\n",
    "\n",
    "if __name__ == '__main__':\n",
    "    sis = SIS()\n",
    "    sis.read_data('sis.csv')\n",
    "\n",
    "    \n",
    "\n",
    "        \n",
    "                    \n",
    "    \n",
    "    \n",
    "   \n",
    "            "
   ]
  },
  {
   "cell_type": "code",
   "execution_count": null,
   "id": "b1c74192",
   "metadata": {},
   "outputs": [],
   "source": []
  }
 ],
 "metadata": {
  "kernelspec": {
   "display_name": "Python 3 (ipykernel)",
   "language": "python",
   "name": "python3"
  },
  "language_info": {
   "codemirror_mode": {
    "name": "ipython",
    "version": 3
   },
   "file_extension": ".py",
   "mimetype": "text/x-python",
   "name": "python",
   "nbconvert_exporter": "python",
   "pygments_lexer": "ipython3",
   "version": "3.10.9"
  }
 },
 "nbformat": 4,
 "nbformat_minor": 5
}
