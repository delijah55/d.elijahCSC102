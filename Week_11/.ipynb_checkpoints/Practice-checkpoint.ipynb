{
 "cells": [
  {
   "cell_type": "code",
   "execution_count": null,
   "id": "cea35742",
   "metadata": {},
   "outputs": [],
   "source": [
    "class Employee:\n",
    "    def __init__(self, name, salary, project):\n",
    "        self.name = name\n",
    "        self.salary = salary\n",
    "        self.project = project\n",
    "\n",
    "    def show(self):\n",
    "        print(\"\\nName:\", self.name)\n",
    "        print(\"Salary: N\" + str(self.salary))\n",
    "\n",
    "    def work(self):\n",
    "        print(self.name, 'is working on', self.project)\n",
    "\n",
    "\n",
    "name = input(\"Enter your name: \")\n",
    "salary = int(input(\"How much do you earn: \"))\n",
    "project = input(\"What project are you working on: \")\n",
    "\n",
    "emp = Employee(name, salary, project)\n",
    "\n",
    "emp.show()\n",
    "emp.work()\n"
   ]
  },
  {
   "cell_type": "code",
   "execution_count": 13,
   "id": "cc0ef90f",
   "metadata": {},
   "outputs": [
    {
     "name": "stdout",
     "output_type": "stream",
     "text": [
      "Enter your name: Duke\n",
      "Enter your salary: 10000\n",
      "Name: Duke Salary: N10000\n",
      "Name: Duke, Salary: N10000\n"
     ]
    }
   ],
   "source": [
    "class Employee:\n",
    "    def __init__(self, name, salary):\n",
    "        self.name = name\n",
    "        self.salary = salary\n",
    "\n",
    "    def show(self):\n",
    "        print(f\"Name: {self.name}, Salary: N{self.salary}\")\n",
    "\n",
    "\n",
    "name = input(\"Enter your name: \")\n",
    "salary = int(input(\"Enter your salary: \"))\n",
    "\n",
    "emp = Employee(name, salary)\n",
    "\n",
    "print(\"Name:\", emp.name, \"Salary:\", \"N\" + str(emp.salary))\n",
    "\n",
    "emp.show()\n"
   ]
  },
  {
   "cell_type": "code",
   "execution_count": 2,
   "id": "1988ec59",
   "metadata": {},
   "outputs": [
    {
     "name": "stdout",
     "output_type": "stream",
     "text": [
      "Name:  Lemuel Otu\n",
      "Salary:  10000\n"
     ]
    }
   ],
   "source": [
    "class Employee:\n",
    "    \n",
    "\n",
    "    def __init__(self, name, salary):        \n",
    "       \n",
    "        self.name = name\n",
    "        self.salary = salary\n",
    "\n",
    "\n",
    "emp = Employee('Lemuel Otu', 10000)\n",
    "\n",
    "\n",
    "print(\"Name: \", emp.name)\n",
    "\n",
    "\n",
    "print(\"Salary: \", emp.salary)"
   ]
  },
  {
   "cell_type": "code",
   "execution_count": 5,
   "id": "333f6733",
   "metadata": {},
   "outputs": [
    {
     "name": "stdout",
     "output_type": "stream",
     "text": [
      "Name:  Clinton Okpara \n",
      "Salary: 250000\n"
     ]
    }
   ],
   "source": [
    "class Employee:\n",
    "    \n",
    "    def __init__(self, name, salary):        \n",
    "      \n",
    "        self.name = name\n",
    "        \n",
    "        \n",
    "        self.salary = salary\n",
    "\n",
    "    \n",
    "    def show(sef):\n",
    "        print(\"Name: \", sef.name, '\\nSalary:', sef.salary)\n",
    "\n",
    "\n",
    "emp = Employee('Clinton Okpara', 250000)\n",
    "\n",
    "\n",
    "emp.show()"
   ]
  },
  {
   "cell_type": "code",
   "execution_count": 7,
   "id": "1ff1524d",
   "metadata": {},
   "outputs": [
    {
     "name": "stdout",
     "output_type": "stream",
     "text": [
      "Name: Mardiyyah Apampa\n",
      "Salary: N900000\n"
     ]
    }
   ],
   "source": [
    "class Employee:\n",
    "    def __init__(self, name, salary):\n",
    "        self.name = name\n",
    "        self.salary = salary\n",
    "\n",
    "emp = Employee('Mardiyyah Apampa', 900000)\n",
    "\n",
    "print('Name:', emp.name)\n",
    "print(f\"Salary: N{emp.salary}\")\n"
   ]
  },
  {
   "cell_type": "code",
   "execution_count": 10,
   "id": "ddda7b81",
   "metadata": {},
   "outputs": [
    {
     "name": "stdout",
     "output_type": "stream",
     "text": [
      "Enter your name: jj\n",
      "Employee name: jj\n",
      "Working on project: Blockchain Development\n",
      "Project: Blockchain Development\n"
     ]
    }
   ],
   "source": [
    "class Company:\n",
    "    def __init__(self):\n",
    "        self._project = \"Blockchain Development\"\n",
    "\n",
    "\n",
    "class Employee(Company):\n",
    "    def __init__(self, name):\n",
    "        self.name = name\n",
    "        super().__init__()\n",
    "\n",
    "    def show(self):\n",
    "        print(f\"Employee name: {self.name}\")\n",
    "        print(\"Working on project:\", self._project)\n",
    "\n",
    "\n",
    "c = Employee(input(\"Enter your name: \"))\n",
    "c.show()\n",
    "\n",
    "print('Project:', c._project)\n"
   ]
  },
  {
   "cell_type": "code",
   "execution_count": 17,
   "id": "f1e9bacf",
   "metadata": {},
   "outputs": [
    {
     "name": "stdout",
     "output_type": "stream",
     "text": [
      "Name: Chike Okala \n",
      "Age: 34\n",
      "\n",
      "\n",
      "Name: Chike Okala \n",
      "Age: 26\n"
     ]
    }
   ],
   "source": [
    "class Student:\n",
    "    def __init__(self, name, age):\n",
    "        self.name = name\n",
    "        self.age = age\n",
    "\n",
    "    def get_age(self):\n",
    "        return self.age\n",
    "\n",
    "    def set_age(self, age):\n",
    "        self.age = age\n",
    "\n",
    "stud = Student('Chike Okala', 34)\n",
    "\n",
    "print('Name:', stud.name, \"\\nAge:\", stud.get_age())\n",
    "\n",
    "stud.set_age(26)\n",
    "\n",
    "print('\\n\\nName:', stud.name, \"\\nAge:\", stud.get_age())\n"
   ]
  },
  {
   "cell_type": "code",
   "execution_count": 22,
   "id": "2f8f2c68",
   "metadata": {},
   "outputs": [
    {
     "name": "stdout",
     "output_type": "stream",
     "text": [
      "Student Details: Odunayo Agunbiade 10\n",
      "Invalid roll no. Please set a correct roll number\n",
      "Student Details: Odunayo Agunbiade 25\n"
     ]
    }
   ],
   "source": [
    "class Student:\n",
    "    def __init__(self, name, roll_no, age):\n",
    "        self.name = name\n",
    "        self.roll_no = roll_no\n",
    "        self.age = age\n",
    "\n",
    "    def show(self):\n",
    "        print('Student Details:', self.name, self.roll_no)\n",
    "\n",
    "    def get_roll_no(self):\n",
    "        return self.roll_no\n",
    "\n",
    "    def set_roll_no(self, number):\n",
    "        if number > 50:\n",
    "            print('Invalid roll no. Please set a correct roll number')\n",
    "        else:\n",
    "            self.roll_no = number\n",
    "\n",
    "\n",
    "info = Student('Odunayo Agunbiade', 10, 15)\n",
    "\n",
    "info.show()\n",
    "\n",
    "info.set_roll_no(120)\n",
    "\n",
    "info.set_roll_no(25)\n",
    "info.show()\n"
   ]
  },
  {
   "cell_type": "code",
   "execution_count": null,
   "id": "760020fa",
   "metadata": {},
   "outputs": [],
   "source": []
  }
 ],
 "metadata": {
  "kernelspec": {
   "display_name": "Python 3 (ipykernel)",
   "language": "python",
   "name": "python3"
  },
  "language_info": {
   "codemirror_mode": {
    "name": "ipython",
    "version": 3
   },
   "file_extension": ".py",
   "mimetype": "text/x-python",
   "name": "python",
   "nbconvert_exporter": "python",
   "pygments_lexer": "ipython3",
   "version": "3.10.9"
  }
 },
 "nbformat": 4,
 "nbformat_minor": 5
}
