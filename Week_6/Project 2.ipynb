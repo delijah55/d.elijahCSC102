{
 "cells": [
  {
   "cell_type": "code",
   "execution_count": 7,
   "id": "a6ad9927",
   "metadata": {
    "scrolled": true
   },
   "outputs": [
    {
     "name": "stdout",
     "output_type": "stream",
     "text": [
      "                      Segments          Brand 1               Brand 2  \\\n",
      "0                       Export     Cocoa butter            Cocoa cake   \n",
      "1        Refreshment Beverages        Bournvita  3-in-1 Hot Chocolate   \n",
      "2                Confectionery  Tom Tom Classic    Tom Tom Strawberry   \n",
      "3  Intermediate Cocoa Products     Cocoa Powder          Cocoa Butter   \n",
      "\n",
      "        Brand 3  \n",
      "0  Cocoa liquor  \n",
      "1          None  \n",
      "2    Buttermint  \n",
      "3  Cocoa Liquor  \n"
     ]
    }
   ],
   "source": [
    "import pandas as pd\n",
    "\n",
    "\n",
    "cadbury_dict = {\n",
    "    'Export': ['Cocoa butter', 'Cocoa cake', 'Cocoa liquor'],\n",
    "    'Refreshment Beverages': ['Bournvita', '3-in-1 Hot Chocolate'],\n",
    "    'Confectionery': ['Tom Tom Classic', 'Tom Tom Strawberry', 'Buttermint'],\n",
    "    'Intermediate Cocoa Products': ['Cocoa Powder', 'Cocoa Butter', 'Cocoa Liquor']\n",
    "}\n",
    "\n",
    "\n",
    "cadbury_df = pd.DataFrame.from_dict(cadbury_dict, orient='index', columns=['Brand 1', 'Brand 2', 'Brand 3'])\n",
    "\n",
    "cadbury_df['Segments'] = cadbury_df.index\n",
    "\n",
    "cadbury_df = cadbury_df.reset_index()[['Segments', 'Brand 1', 'Brand 2', 'Brand 3']]\n",
    "\n",
    "\n",
    "\n",
    "\n",
    "cadbury_df.to_csv('cadbury_market.csv', index=False)\n",
    "\n",
    "print(cadbury_df)\n"
   ]
  },
  {
   "cell_type": "code",
   "execution_count": null,
   "id": "db0c2c9a",
   "metadata": {},
   "outputs": [],
   "source": []
  }
 ],
 "metadata": {
  "kernelspec": {
   "display_name": "Python 3 (ipykernel)",
   "language": "python",
   "name": "python3"
  },
  "language_info": {
   "codemirror_mode": {
    "name": "ipython",
    "version": 3
   },
   "file_extension": ".py",
   "mimetype": "text/x-python",
   "name": "python",
   "nbconvert_exporter": "python",
   "pygments_lexer": "ipython3",
   "version": "3.10.9"
  }
 },
 "nbformat": 4,
 "nbformat_minor": 5
}
