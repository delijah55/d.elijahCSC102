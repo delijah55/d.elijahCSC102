{
 "cells": [
  {
   "cell_type": "code",
   "execution_count": 9,
   "id": "c0e9e8b6",
   "metadata": {},
   "outputs": [
    {
     "ename": "IndentationError",
     "evalue": "expected an indented block after class definition on line 17 (27065815.py, line 19)",
     "output_type": "error",
     "traceback": [
      "\u001b[1;36m  Cell \u001b[1;32mIn[9], line 19\u001b[1;36m\u001b[0m\n\u001b[1;33m    def unique_services(self):\u001b[0m\n\u001b[1;37m    ^\u001b[0m\n\u001b[1;31mIndentationError\u001b[0m\u001b[1;31m:\u001b[0m expected an indented block after class definition on line 17\n"
     ]
    }
   ],
   "source": [
    "\n",
    "class Zenith:\n",
    "    \n",
    "    def unique_services(self):\n",
    "        pass\n",
    "    \n",
    "    def mutual_services(self):\n",
    "        pass\n",
    "    \n",
    "\n",
    "    class RetailBanking(Zenith):\n",
    "    \n",
    "     def unique_services(self):\n",
    "        return [\"Lines of credit\", \"Investment management and accounts\", \"Insurance\", \n",
    "                \"Retirement and education accounts\", \"Loans and mortgagges\", \"Checking and saving\"]\n",
    "    \n",
    "   \n",
    "    class GlobalBanking(Zenith):\n",
    "   \n",
    "    def unique_services(self):\n",
    "        return [\"Multi-currency management services and products\", \"Foreign currency accounts\", \n",
    "                \"Foreign currency credit cards\", \"Transborder advisory services\", \"Liquidity management\"]\n",
    "    \n",
    "  \n",
    "    class CommercialBanking(Zenith):\n",
    "    \n",
    "     def unique_services(self):\n",
    "        return [\"Lines of credit\", \"Investment management and accounts\", \"Insurance\", \"Advisory services\"]\n",
    "    \n",
    "   \n",
    "    def main():\n",
    "    \n",
    "    name = input(\"Enter employee name: \")\n",
    "    division = input(\"Enter division (Retail, Global, or Commercial): \")\n",
    "    \n",
    "    \n",
    "    if division.lower() == \"retail\":\n",
    "        employee = RetailBanking()\n",
    "    elif division.lower() == \"global\":\n",
    "        employee = GlobalBanking()\n",
    "    elif division.lower() == \"commercial\":\n",
    "        employee = CommercialBanking()\n",
    "    else:\n",
    "        print(\"Invalid division.\")\n",
    "        return\n",
    "    \n",
    "\n",
    "    if name.lower() == \"mary\":\n",
    "        services = employee.unique_services()\n",
    "    else:\n",
    "        services = employee.mutual_services()\n",
    "        \n",
    "    \n",
    "    print(f\"{name} works in {division} Banking Division and renders the following services: \\n{services}\")\n",
    "\n",
    "\n",
    "if __name__ == \"__main__\":\n",
    "    main()"
   ]
  },
  {
   "cell_type": "code",
   "execution_count": null,
   "id": "8f97aefb",
   "metadata": {},
   "outputs": [],
   "source": []
  }
 ],
 "metadata": {
  "kernelspec": {
   "display_name": "Python 3 (ipykernel)",
   "language": "python",
   "name": "python3"
  },
  "language_info": {
   "codemirror_mode": {
    "name": "ipython",
    "version": 3
   },
   "file_extension": ".py",
   "mimetype": "text/x-python",
   "name": "python",
   "nbconvert_exporter": "python",
   "pygments_lexer": "ipython3",
   "version": "3.10.9"
  }
 },
 "nbformat": 4,
 "nbformat_minor": 5
}
