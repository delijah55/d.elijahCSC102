{
 "cells": [
  {
   "cell_type": "code",
   "execution_count": 28,
   "id": "32becc88",
   "metadata": {},
   "outputs": [
    {
     "name": "stdout",
     "output_type": "stream",
     "text": [
      "Enter employee name: John\n",
      "Enter division (Retail, Global, or Commercial): Retail\n",
      "John works in Retail Banking Division and renders the following services:\n",
      "None\n"
     ]
    }
   ],
   "source": [
    "\n",
    "class Zenith:\n",
    "    def unique_services(self):\n",
    "        pass\n",
    "\n",
    "    def mutual_services(self):\n",
    "        pass\n",
    "\n",
    "\n",
    "class RetailBanking(Zenith):\n",
    "    def unique_services(self):\n",
    "        return [\"Lines of credit\", \"Investment management and accounts\", \"Insurance\",\n",
    "                \"Retirement and education accounts\", \"Loans and mortgages\", \"Checking and saving\"]\n",
    "\n",
    "\n",
    "class GlobalBanking(Zenith):\n",
    "    def unique_services(self):\n",
    "        return [\"Multi-currency management services and products\", \"Foreign currency accounts\",\n",
    "                \"Foreign currency credit cards\", \"Transborder advisory services\", \"Liquidity management\"]\n",
    "\n",
    "\n",
    "class CommercialBanking(Zenith):\n",
    "    def unique_services(self):\n",
    "        return [\"Lines of credit\", \"Investment management and accounts\", \"Insurance\", \"Advisory services\"]\n",
    "\n",
    "\n",
    "def main():\n",
    "    name = input(\"Enter employee name: \")\n",
    "    division = input(\"Enter division (Retail, Global, or Commercial): \")\n",
    "\n",
    "    if division.lower() == \"retail\":\n",
    "        employee = RetailBanking()\n",
    "    elif division.lower() == \"global\":\n",
    "        employee = GlobalBanking()\n",
    "    elif division.lower() == \"commercial\":\n",
    "        employee = CommercialBanking()\n",
    "    else:\n",
    "        print(\"Invalid division.\")\n",
    "        return\n",
    "\n",
    "    if name.lower() == \"mary\":\n",
    "        services = employee.unique_services()\n",
    "    else:\n",
    "        services = employee.mutual_services()\n",
    "\n",
    "    print(f\"{name} works in {division} Banking Division and renders the following services:\\n{services}\")\n",
    "\n",
    "\n",
    "if __name__ == \"__main__\":\n",
    "    main()\n"
   ]
  },
  {
   "cell_type": "code",
   "execution_count": null,
   "id": "c114c629",
   "metadata": {},
   "outputs": [],
   "source": []
  }
 ],
 "metadata": {
  "kernelspec": {
   "display_name": "Python 3 (ipykernel)",
   "language": "python",
   "name": "python3"
  },
  "language_info": {
   "codemirror_mode": {
    "name": "ipython",
    "version": 3
   },
   "file_extension": ".py",
   "mimetype": "text/x-python",
   "name": "python",
   "nbconvert_exporter": "python",
   "pygments_lexer": "ipython3",
   "version": "3.10.9"
  }
 },
 "nbformat": 4,
 "nbformat_minor": 5
}
