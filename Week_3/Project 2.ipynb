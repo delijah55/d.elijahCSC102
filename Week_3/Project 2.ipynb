{
 "cells": [
  {
   "cell_type": "code",
   "execution_count": 8,
   "id": "851a4554",
   "metadata": {},
   "outputs": [
    {
     "name": "stdout",
     "output_type": "stream",
     "text": [
      "The roots are: (2.7178157176378543+0j) (-1.6089078588189272+2.4980350215764227j) (-1.6089078588189272-2.4980350215764227j)\n",
      "The real root is: (1.3707581077970785+0.369222240480041j)\n"
     ]
    }
   ],
   "source": [
    "import cmath\n",
    "\n",
    "A = 2\n",
    "B = 1\n",
    "C = 3\n",
    "D = 1\n",
    "\n",
    "delta = 18*A*B*C*D - 4*B**3*D + B**2*C**2 - 4*A*C**3 - 27*A**2*D**2\n",
    "\n",
    "if delta < 0:\n",
    "    p = 3*A\n",
    "    q = (B**2 - 3*A*C)/(3*A)\n",
    "    r = (2*B**3 - 9*A*B*C + 27*A**2*D)/(27*A**3)\n",
    "    s = cmath.sqrt(q**3 + r**2)\n",
    "    t = (-r + s)**(1/3)\n",
    "    u = (-r - s)**(1/3)\n",
    "    v = -0.5 + 0.5j*cmath.sqrt(3)\n",
    "    x1 = t + u - B/(3*A)\n",
    "    x2 = v*t + v*u - B/(3*A)\n",
    "    x3 = v**2*t + v**2*u - B/(3*A)\n",
    "    print(\"The roots are:\", x1, x2, x3)\n",
    "    \n",
    "\n",
    "    s = cmath.sqrt(delta)\n",
    "    t = ((s - B**2 + 3*A*C)/(2*A**(3/2)))**(1/3)\n",
    "    x1 = t - (B/(3*A))\n",
    "    print(\"The real root is:\", x1)"
   ]
  },
  {
   "cell_type": "code",
   "execution_count": null,
   "id": "f2917a7b",
   "metadata": {},
   "outputs": [],
   "source": []
  }
 ],
 "metadata": {
  "kernelspec": {
   "display_name": "Python 3 (ipykernel)",
   "language": "python",
   "name": "python3"
  },
  "language_info": {
   "codemirror_mode": {
    "name": "ipython",
    "version": 3
   },
   "file_extension": ".py",
   "mimetype": "text/x-python",
   "name": "python",
   "nbconvert_exporter": "python",
   "pygments_lexer": "ipython3",
   "version": "3.10.9"
  }
 },
 "nbformat": 4,
 "nbformat_minor": 5
}
