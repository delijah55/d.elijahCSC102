{
 "cells": [
  {
   "cell_type": "code",
   "execution_count": 1,
   "id": "c61c6051",
   "metadata": {},
   "outputs": [
    {
     "name": "stdout",
     "output_type": "stream",
     "text": [
      "Enter the value of a: 6\n",
      "Enter the value of b: 7\n",
      "Enter the value of c: 12\n",
      "The roots are imaginary.\n"
     ]
    }
   ],
   "source": [
    "import math\n",
    "\n",
    "a = float(input(\"Enter the value of a: \"))\n",
    "b = float(input(\"Enter the value of b: \"))\n",
    "c = float(input(\"Enter the value of c: \"))\n",
    "\n",
    "\n",
    "D = b**2 - 4*a*c\n",
    "\n",
    "\n",
    "if D > 0:\n",
    "    # calculate roots\n",
    "    x1 = (-b + math.sqrt(D)) / (2*a)\n",
    "    x2 = (-b - math.sqrt(D)) / (2*a)\n",
    "    print(\"The roots are real and distinct.\")\n",
    "    print(\"Root 1 =\", x1)\n",
    "    print(\"Root 2 =\", x2)\n",
    "elif D == 0:\n",
    "    # calculate root\n",
    "    x = -b / (2*a)\n",
    "    print(\"The roots are real and equal.\")\n",
    "    print(\"Root 1 =\", x)\n",
    "else:\n",
    "    print(\"The roots are imaginary.\")\n",
    "\n",
    "\n"
   ]
  },
  {
   "cell_type": "code",
   "execution_count": null,
   "id": "f8855338",
   "metadata": {},
   "outputs": [],
   "source": []
  }
 ],
 "metadata": {
  "kernelspec": {
   "display_name": "Python 3 (ipykernel)",
   "language": "python",
   "name": "python3"
  },
  "language_info": {
   "codemirror_mode": {
    "name": "ipython",
    "version": 3
   },
   "file_extension": ".py",
   "mimetype": "text/x-python",
   "name": "python",
   "nbconvert_exporter": "python",
   "pygments_lexer": "ipython3",
   "version": "3.10.9"
  }
 },
 "nbformat": 4,
 "nbformat_minor": 5
}
