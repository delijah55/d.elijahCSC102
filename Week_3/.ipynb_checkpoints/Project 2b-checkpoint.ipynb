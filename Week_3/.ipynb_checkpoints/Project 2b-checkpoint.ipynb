{
 "cells": [
  {
   "cell_type": "code",
   "execution_count": 2,
   "id": "c61c6051",
   "metadata": {},
   "outputs": [],
   "source": [
    "import cmath\n",
    "\n",
    "def quartic_roots(a, b, c, d, e):\n",
    "    \n",
    "    delta0 = b**2 - 3*a*c\n",
    "    delta1 = 2*b**3 - 9*a*b*c + 27*a**2*d\n",
    "    C = ((delta1 + cmath.sqrt(delta1**2 - 4*delta0**3)) / 2) ** (1/3)\n",
    "    z1 = -(b + C + delta0/C) / (3*a)\n",
    "    \n",
    "    B = b**2 - 4*a*c\n",
    "    R = -b / (2*a)\n",
    "    D = cmath.sqrt(abs(B - 4*a*d*(z1**2 + R*z1 + (c + R**2))))\n",
    "    roots = [\n",
    "        z1 - (R + cmath.sqrt(D)) / 2,\n",
    "        z1 - (R - cmath.sqrt(D)) / 2,\n",
    "        z1 + (R + cmath.sqrt(D)) / 2,\n",
    "        z1 + (R - cmath.sqrt(D)) / 2,\n",
    "    ]\n",
    "    \n",
    "    return roots"
   ]
  }
 ],
 "metadata": {
  "kernelspec": {
   "display_name": "Python 3 (ipykernel)",
   "language": "python",
   "name": "python3"
  },
  "language_info": {
   "codemirror_mode": {
    "name": "ipython",
    "version": 3
   },
   "file_extension": ".py",
   "mimetype": "text/x-python",
   "name": "python",
   "nbconvert_exporter": "python",
   "pygments_lexer": "ipython3",
   "version": "3.10.9"
  }
 },
 "nbformat": 4,
 "nbformat_minor": 5
}
