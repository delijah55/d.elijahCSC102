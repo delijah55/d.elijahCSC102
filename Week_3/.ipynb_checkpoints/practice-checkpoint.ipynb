{
 "cells": [
  {
   "cell_type": "code",
   "execution_count": null,
   "id": "b7a12acb",
   "metadata": {},
   "outputs": [],
   "source": [
    "str = input(\"Enter your state of origin: \" )\n",
    "\n",
    "print (\"Your state Of origin is: \", str)\n",
    "print (\"The first character is: \", str[0])\n",
    "print (\"The characters starting from 3rd to 5th are: \", str[2:5])\n",
    "print (\"The string starting from 3rd character is: \", str[2:])\n",
    "print (\"State of origin two times\", str * 2)\n"
   ]
  },
  {
   "cell_type": "code",
   "execution_count": null,
   "id": "d9b726e1",
   "metadata": {},
   "outputs": [],
   "source": [
    "m = float(input(\"Enter mass in kilograms: \"))\n",
    "\n",
    "c = 299792458\n",
    "\n",
    "energy = m * c ** 2\n",
    "\n",
    "print(f\"The energy equivalent to {m} kg of mass is {energy} joules.\")"
   ]
  },
  {
   "cell_type": "code",
   "execution_count": null,
   "id": "ad1bdcfd",
   "metadata": {},
   "outputs": [],
   "source": [
    "list = ['Anaconda', 786 , 2.23, 'Jupyter', 70.2 ]\n",
    "shortlist = [321, 'Python']\n",
    "\n",
    "print(list)      '''Prints complete list'''\n",
    "print(list[0])\n",
    "print(list[1:3])\n",
    "print(list[2:])  '''Prints elements starting from 3rd element'''\n",
    "print(shortlist * 2)\n",
    "print(list + shortlist)"
   ]
  },
  {
   "cell_type": "code",
   "execution_count": null,
   "id": "f6122255",
   "metadata": {},
   "outputs": [],
   "source": [
    "tuple = (\"Ekiti\",750, 'Oshogbo', 250, \"Akure\", 500)\n",
    "s_tuple = (\"Abeokuta\", 300, \"ogbomoso\")\n",
    "\n",
    "print (tuple)\n",
    "\n",
    "print (tuple[-1])\n",
    "\n",
    "print (tuple[2:4])\n",
    "\n",
    "print (tuple[3:])\n",
    "\n",
    "print (s_tuple * 3)\n",
    "\n",
    "print (tuple + s_tuple)"
   ]
  },
  {
   "cell_type": "code",
   "execution_count": null,
   "id": "27d05b6c",
   "metadata": {},
   "outputs": [],
   "source": [
    "game_l = 2\n",
    "game_2 = 4\n",
    "print(bool(game_1 == game_2))\n",
    "\n",
    "print(game_1 == game_2)\n",
    "\n",
    "val = None\n",
    "print(bool(val))\n",
    "\n",
    "num = ( )\n",
    "print(bool (num))\n",
    "\n",
    "age = True\n",
    "print(bool(age))"
   ]
  },
  {
   "cell_type": "code",
   "execution_count": null,
   "id": "3384af8a",
   "metadata": {},
   "outputs": [],
   "source": [
    "grade = int(70)\n",
    "gpa = int(4.9)\n",
    "cgpa= int(\"4\")\n",
    "\n",
    "print(f\"Grade = {grade}\")\n",
    "print(f\"GPA = {gpa}\")\n",
    "print(f\"CGPA = {cgpa}\")"
   ]
  },
  {
   "cell_type": "code",
   "execution_count": 2,
   "id": "52197d2e",
   "metadata": {},
   "outputs": [
    {
     "name": "stdout",
     "output_type": "stream",
     "text": [
      "Grade = 97.0\n",
      "GPA = 5.0\n",
      "CGPA = 4.7\n"
     ]
    }
   ],
   "source": [
    "grade = float(97)\n",
    "gpa = float(5)\n",
    "cgpa = float(\"4.7\")\n",
    "\n",
    "print(f\"Grade = {grade}\")\n",
    "print(f\"GPA = {gpa}\")\n",
    "print(f\"CGPA = {cgpa}\")"
   ]
  },
  {
   "cell_type": "code",
   "execution_count": null,
   "id": "e9788da5",
   "metadata": {},
   "outputs": [],
   "source": []
  }
 ],
 "metadata": {
  "kernelspec": {
   "display_name": "Python 3 (ipykernel)",
   "language": "python",
   "name": "python3"
  },
  "language_info": {
   "codemirror_mode": {
    "name": "ipython",
    "version": 3
   },
   "file_extension": ".py",
   "mimetype": "text/x-python",
   "name": "python",
   "nbconvert_exporter": "python",
   "pygments_lexer": "ipython3",
   "version": "3.10.9"
  }
 },
 "nbformat": 4,
 "nbformat_minor": 5
}
